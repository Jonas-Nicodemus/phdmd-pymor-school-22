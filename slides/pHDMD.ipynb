{
 "cells": [
  {
   "cell_type": "markdown",
   "id": "e3090586",
   "metadata": {
    "slideshow": {
     "slide_type": "slide"
    }
   },
   "source": [
    "\n",
    "# Towards Dynamic Mode Decomposition \n",
    "\n",
    "# and Port-Hamiltonian Systems in pyMOR\n",
    "\n",
    "## Jonas Nicodemus\n",
    "\n",
    "### pyMOR School 2022\n",
    "\n",
    "### August 25, 2022\n"
   ]
  },
  {
   "cell_type": "markdown",
   "id": "9ad1102f",
   "metadata": {
    "slideshow": {
     "slide_type": "slide"
    }
   },
   "source": [
    "\n",
    "# Get the slides\n",
    "\n",
    "<img src=\"figures/qr_gh_slides.png\" width=\"30%\"/>\n",
    "\n",
    "[https://github.com/Jonas-Nicodemus/phdmd-pymor-school-22](https://github.com/Jonas-Nicodemus/phdmd-pymor-school-22)"
   ]
  },
  {
   "cell_type": "markdown",
   "id": "751be89f",
   "metadata": {
    "slideshow": {
     "slide_type": "slide"
    }
   },
   "source": [
    "# System Identification\n",
    "\n",
    "<div>\n",
    "    <center>\n",
    "        <img src=\"figures/si.svg\" width=\"50%\"/>\n",
    "    </center>\n",
    "</div>"
   ]
  },
  {
   "cell_type": "markdown",
   "id": "b0993f1f",
   "metadata": {
    "slideshow": {
     "slide_type": "subslide"
    }
   },
   "source": [
    "\n",
    "## My favorite academic toy example\n",
    "\n",
    "<div>\n",
    "    <center>\n",
    "        <img src=\"figures/msd.svg\" width=\"70%\"/>\n",
    "    </center>\n",
    "</div>"
   ]
  },
  {
   "cell_type": "markdown",
   "id": "fa6a91ae",
   "metadata": {
    "slideshow": {
     "slide_type": "slide"
    }
   },
   "source": [
    "\n",
    "# (io)DMD\n",
    "\n",
    "<div>\n",
    "    <center>\n",
    "       <img src=\"figures/dmd.svg\" width=\"40%\"/>\n",
    "    </center>\n",
    "</div>"
   ]
  },
  {
   "cell_type": "markdown",
   "id": "0f16588e",
   "metadata": {
    "slideshow": {
     "slide_type": "fragment"
    }
   },
   "source": [
    "## Least squares\n",
    "\n",
    "$$\n",
    "\\begin{align*}\n",
    "    \\min_{A,B,C,D} \\sum_{i=0}^{M-1} \\|x_{i+1} - Ax_i + Bu_i\\|^2_2 + \\|y_i - Cx_i + Du_i\\|^2_2\n",
    "\\end{align*} \n",
    "$$"
   ]
  },
  {
   "cell_type": "markdown",
   "id": "a0b91d43",
   "metadata": {
    "slideshow": {
     "slide_type": "fragment"
    }
   },
   "source": [
    "\n",
    "## Matrix formulation\n",
    "\n",
    "$$\n",
    "\\begin{align*}\n",
    "    \\min_{\n",
    "        \\mathcal{A}\n",
    "    } \n",
    "    \\bigg\\|\\underbrace{\n",
    "        \\begin{bmatrix}\n",
    "            x_1 & \\ldots & x_{M}\\\\\n",
    "            y_0 & \\ldots & y_{M-1}\n",
    "        \\end{bmatrix}}_{=: Z} - \n",
    "    \\underbrace{\n",
    "        \\begin{bmatrix}\n",
    "            A & B\\\\\n",
    "            C & D\n",
    "        \\end{bmatrix}\n",
    "    }_{=: \\mathcal{A}}\n",
    "    \\underbrace{\n",
    "        \\begin{bmatrix}\n",
    "            x_0 & \\ldots & x_{M-1}\\\\\n",
    "            u_0 & \\ldots & u_{M-1}\n",
    "        \\end{bmatrix}\n",
    "    }_{=: T}\n",
    "    \\bigg\\|_{\\mathrm{F}}\n",
    "         , \\quad\\rightsquigarrow\n",
    "         \\mathcal{A}^\\star = ZT^\\dagger\n",
    "\\end{align*}\n",
    "$$"
   ]
  },
  {
   "cell_type": "markdown",
   "id": "db7cb0eb",
   "metadata": {
    "slideshow": {
     "slide_type": "slide"
    }
   },
   "source": [
    "\n",
    "# An alternative discrete LTI model\n"
   ]
  },
  {
   "cell_type": "markdown",
   "id": "1e23e34d",
   "metadata": {
    "slideshow": {
     "slide_type": "fragment"
    }
   },
   "source": [
    "\n",
    "<!-- ## Implicit Midpoint Method -->\n",
    "\n",
    "<div>\n",
    "    <center>\n",
    "       <img src=\"figures/imp.svg\" width=\"40%\"/>\n",
    "    </center>\n",
    "</div>\n",
    "\n",
    "\\begin{align*}\n",
    "    x_{i+1} &= x_{i} + \\delta f(t_i + \\frac{\\delta}{2}, \\frac{x_{i+1} + x_{i}}{2})\\\\\n",
    "\\end{align*}"
   ]
  },
  {
   "cell_type": "markdown",
   "id": "bd577743",
   "metadata": {
    "slideshow": {
     "slide_type": "fragment"
    }
   },
   "source": [
    "\\begin{align*}\n",
    "    \\frac{x_{i+1}-x_{i}}{\\delta} &= f(t_i + \\frac{\\delta}{2}, \\frac{x_{i+1} + x_{i}}{2}) = A\\frac{x_{i+1} + x_{i}}{2} + B\\frac{u_{i+1} + u_{i}}{2}\\\\\n",
    "\\end{align*}"
   ]
  },
  {
   "cell_type": "markdown",
   "id": "5bf8c6cd",
   "metadata": {
    "slideshow": {
     "slide_type": "skip"
    }
   },
   "source": [
    "\\begin{align*}\n",
    "    \\frac{x_{i+1}-x_{i}}{\\delta} &= A\\frac{x_{i+1} + x_{i}}{2} + B\\frac{u_{i+1} + u_{i}}{2}\\\\\n",
    "\\end{align*}"
   ]
  },
  {
   "cell_type": "markdown",
   "id": "9fa75657",
   "metadata": {
    "slideshow": {
     "slide_type": "skip"
    }
   },
   "source": [
    "\\begin{align*}\n",
    "    \\frac{y_{i+1}-y_{i}}{\\delta} &= C\\frac{x_{i+1} + x_{i}}{2} + D\\frac{u_{i+1} + u_{i}}{2}\\\\\n",
    "\\end{align*}"
   ]
  },
  {
   "cell_type": "markdown",
   "id": "7a086ab8",
   "metadata": {
    "slideshow": {
     "slide_type": "slide"
    }
   },
   "source": [
    "# Roadmap\n",
    "\n",
    "- generate the data\n",
    "- transform the data\n",
    "- fit the data\n",
    "- evaluate"
   ]
  },
  {
   "cell_type": "markdown",
   "id": "fa56777e",
   "metadata": {
    "slideshow": {
     "slide_type": "slide"
    }
   },
   "source": [
    "\n",
    "# Generate data\n"
   ]
  },
  {
   "cell_type": "code",
   "execution_count": null,
   "id": "edca2e99",
   "metadata": {
    "slideshow": {
     "slide_type": "fragment"
    }
   },
   "outputs": [],
   "source": [
    "import sys\n",
    "import logging\n",
    "\n",
    "import numpy as np\n",
    "\n",
    "import pymor\n",
    "from pymor.algorithms.to_matrix import to_matrix\n",
    "\n",
    "# caution: path[0] is reserved for script path (or '' in REPL)\n",
    "sys.path.insert(1, '../src')\n",
    "\n",
    "from utils.plotting import trajectories_plot\n",
    "\n",
    "# pymor.config\n",
    "\n",
    "logging.basicConfig()\n",
    "logging.getLogger().setLevel(logging.INFO)"
   ]
  },
  {
   "cell_type": "markdown",
   "id": "beb75727",
   "metadata": {
    "slideshow": {
     "slide_type": "subslide"
    }
   },
   "source": [
    "\n",
    "## The true model\n",
    "\n",
    "<div>\n",
    "    <center>\n",
    "        <img src=\"figures/msd.svg\" width=\"70%\"/>\n",
    "    </center>\n",
    "</div>"
   ]
  },
  {
   "cell_type": "code",
   "execution_count": null,
   "id": "03489f7c",
   "metadata": {
    "slideshow": {
     "slide_type": "-"
    }
   },
   "outputs": [],
   "source": [
    "from model.msd import msd\n",
    "\n",
    "n = 6 # state dimension\n",
    "m = 1 # input dimension = output dimension\n",
    "\n",
    "A, B, C, Q = msd(n, m, m_i=4, k_i=4, c_i=1)"
   ]
  },
  {
   "cell_type": "code",
   "execution_count": null,
   "id": "6872bbd7",
   "metadata": {
    "slideshow": {
     "slide_type": "fragment"
    }
   },
   "outputs": [],
   "source": [
    "from pymor.models.iosys import LTIModel\n",
    "\n",
    "lti = LTIModel.from_matrices(A, B, C)\n",
    "lti "
   ]
  },
  {
   "cell_type": "markdown",
   "id": "f4f9c9c7",
   "metadata": {
    "slideshow": {
     "slide_type": "subslide"
    }
   },
   "source": [
    "\n",
    "## Simulate\n"
   ]
  },
  {
   "cell_type": "code",
   "execution_count": null,
   "id": "cfddd24c",
   "metadata": {
    "slideshow": {
     "slide_type": "-"
    }
   },
   "outputs": [],
   "source": [
    "N = 100\n",
    "T_end = 4\n",
    "T_train = np.linspace(0, T_end, N) # time interval\n",
    "delta = T_train[1] - T_train[0] # step size\n",
    "\n",
    "x0_train = np.zeros(n) # initial condition\n",
    "u_train = lambda t: np.exp(-0.5 * t) * np.sin(t ** 2) # control signal"
   ]
  },
  {
   "cell_type": "code",
   "execution_count": null,
   "id": "b354f4d2",
   "metadata": {
    "slideshow": {
     "slide_type": "fragment"
    }
   },
   "outputs": [],
   "source": [
    "from discretization.discretization import sim\n",
    "\n",
    "U_train, X_train, Y_train = sim(lti, u_train, T_train, x0_train) # via implicit midpoint rule\n",
    "X_train.shape"
   ]
  },
  {
   "cell_type": "markdown",
   "id": "7a9d486c",
   "metadata": {
    "slideshow": {
     "slide_type": "subslide"
    }
   },
   "source": [
    "\n",
    "## Visualize\n"
   ]
  },
  {
   "cell_type": "code",
   "execution_count": null,
   "id": "b4299aa3",
   "metadata": {},
   "outputs": [],
   "source": [
    "trajectories_plot(T_train, U_train, Y_train)"
   ]
  },
  {
   "cell_type": "markdown",
   "id": "abb43cf5",
   "metadata": {
    "slideshow": {
     "slide_type": "slide"
    }
   },
   "source": [
    "\n",
    "# Transform the data\n",
    "\n",
    "\\begin{align*}\n",
    "    \\frac{x_{i+1}-x_{i}}{\\delta} &= A\\frac{x_{i+1} + x_{i}}{2} + B\\frac{u_{i+1} + u_{i}}{2}\\\\\n",
    "    \\frac{y_{i+1}+y_{i}}{2} &= C\\frac{x_{i+1} + x_{i}}{2} + D\\frac{u_{i+1} + u_{i}}{2}\\\\\n",
    "\\end{align*}\n"
   ]
  },
  {
   "cell_type": "code",
   "execution_count": null,
   "id": "05773d10",
   "metadata": {},
   "outputs": [],
   "source": [
    "W = (X_train[:, 1:] - X_train[:, :-1]) / delta\n",
    "V = 1 / 2 * (X_train[:, 1:] + X_train[:, :-1])\n",
    "U = 1 / 2 * (U_train[:, 1:] + U_train[:, :-1])\n",
    "Y = 1 / 2 * (Y_train[:, 1:] + Y_train[:, :-1])\n",
    "\n",
    "T = np.concatenate((V, U))\n",
    "Z = np.concatenate((W, Y))\n",
    "Z.shape"
   ]
  },
  {
   "cell_type": "markdown",
   "id": "ed34921a",
   "metadata": {
    "slideshow": {
     "slide_type": "slide"
    }
   },
   "source": [
    "\n",
    "# Fit the data\n",
    "\n",
    "$$\n",
    "\\begin{align*}\n",
    "    \\min_{\n",
    "        \\mathcal{A}\n",
    "    } \n",
    "    \\bigg\\|\\underbrace{\n",
    "        \\begin{bmatrix}\n",
    "            \\frac{x_{1}-x_{0}}{\\delta} & \\ldots & \\frac{x_{M}-x_{M-1}}{\\delta}\\\\\n",
    "            \\frac{y_{1}+y_{0}}{2} & \\ldots & \\frac{y_{M}+y_{M-1}}{2}\n",
    "        \\end{bmatrix}}_{=: Z} - \n",
    "    \\underbrace{\n",
    "        \\begin{bmatrix}\n",
    "            A & B\\\\\n",
    "            C & D\n",
    "        \\end{bmatrix}\n",
    "    }_{=: \\mathcal{A}}\n",
    "    \\underbrace{\n",
    "        \\begin{bmatrix}\n",
    "            \\frac{x_{1} + x_{0}}{2} & \\ldots & \\frac{x_{M} + x_{M-1}}{2}\\\\\n",
    "            \\frac{u_{1} + u_{0}}{2} & \\ldots & \\frac{u_{M} + u_{M-1}}{2}\n",
    "        \\end{bmatrix}\n",
    "    }_{=: T}\n",
    "    \\bigg\\|_{\\mathrm{F}}\n",
    "         , \\rightsquigarrow\n",
    "         \\mathcal{A}^\\star = ZT^\\dagger\n",
    "\\end{align*}\n",
    "$$"
   ]
  },
  {
   "cell_type": "code",
   "execution_count": null,
   "id": "da9f4642",
   "metadata": {
    "slideshow": {
     "slide_type": "fragment"
    }
   },
   "outputs": [],
   "source": [
    "def iodmd(Z, T):\n",
    "    \n",
    "    A = Z @ np.linalg.pinv(T)\n",
    "\n",
    "    return A\n",
    "\n",
    "AA = iodmd(Z, T)"
   ]
  },
  {
   "cell_type": "code",
   "execution_count": null,
   "id": "33e54a72",
   "metadata": {
    "slideshow": {
     "slide_type": "fragment"
    }
   },
   "outputs": [],
   "source": [
    "e = np.linalg.norm(Z - AA @ T)/np.linalg.norm(Z)\n",
    "\n",
    "print(f'Relative error: {e:.2e}')"
   ]
  },
  {
   "cell_type": "code",
   "execution_count": null,
   "id": "99324803",
   "metadata": {
    "slideshow": {
     "slide_type": "subslide"
    }
   },
   "outputs": [],
   "source": [
    "from pymor.algorithms.dmd import dmd\n",
    "from pymor.vectorarrays.numpy import NumpyVectorSpace\n",
    "\n",
    "Zva = NumpyVectorSpace.from_numpy(Z.T)\n",
    "Tva = NumpyVectorSpace.from_numpy(T.T)\n",
    "\n",
    "_, _, AA = dmd(Tva, Zva, svd_method='qr_svd', return_A_approx=True)\n",
    "\n",
    "AA = to_matrix(AA)"
   ]
  },
  {
   "cell_type": "code",
   "execution_count": null,
   "id": "4fd48a03",
   "metadata": {
    "slideshow": {
     "slide_type": "subslide"
    }
   },
   "outputs": [],
   "source": [
    "e = np.linalg.norm(Z - AA @ T)/np.linalg.norm(Z)\n",
    "\n",
    "print(f'Relative error: {e:.2e}')"
   ]
  },
  {
   "cell_type": "code",
   "execution_count": null,
   "id": "61d08b9b",
   "metadata": {},
   "outputs": [],
   "source": [
    "A = AA[:n, :n]\n",
    "B = AA[:n, n:]\n",
    "C = AA[n:, :n]\n",
    "D = AA[n:, n:]\n",
    "\n",
    "lti_dmd = LTIModel.from_matrices(A, B, C)\n",
    "lti_dmd"
   ]
  },
  {
   "cell_type": "markdown",
   "id": "08d4abbe",
   "metadata": {
    "slideshow": {
     "slide_type": "slide"
    }
   },
   "source": [
    "\n",
    "# Evaluate\n"
   ]
  },
  {
   "cell_type": "code",
   "execution_count": null,
   "id": "9269f280",
   "metadata": {},
   "outputs": [],
   "source": [
    "from utils.plotting import magnitude_plot\n",
    "\n",
    "def evaluate(lti, lti_dmd):\n",
    "    lti_error = lti - lti_dmd # error lti system\n",
    "\n",
    "    h2 = lti_error.h2_norm()\n",
    "    h2_rel = h2 / lti.h2_norm()\n",
    "    print(f'Relative H2 error: {h2_rel:.2e}')\n",
    "\n",
    "    hinf = lti_error.hinf_norm()\n",
    "    hinf_rel = hinf / lti.hinf_norm()\n",
    "    print(f'Relative Hinf error: {hinf_rel:.2e}')\n",
    "\n",
    "    w = np.logspace(-1, 3, 1000)\n",
    "    magnitude_plot(w, lti_error)"
   ]
  },
  {
   "cell_type": "code",
   "execution_count": null,
   "id": "7145ed07",
   "metadata": {},
   "outputs": [],
   "source": [
    "evaluate(lti, lti_dmd)"
   ]
  },
  {
   "cell_type": "code",
   "execution_count": null,
   "id": "82280910",
   "metadata": {
    "slideshow": {
     "slide_type": "subslide"
    }
   },
   "outputs": [],
   "source": [
    "from scipy.signal import sawtooth\n",
    "\n",
    "T_test = np.linspace(0, 10, 1000) # testing time interval\n",
    "freq = 0.5  # Hz\n",
    "u_test = lambda t: sawtooth(2 * np.pi * freq * t) # testing input signal\n",
    "\n",
    "x0_test = 10 * np.ones(n) # testing initial condition"
   ]
  },
  {
   "cell_type": "code",
   "execution_count": null,
   "id": "d2a841b6",
   "metadata": {},
   "outputs": [],
   "source": [
    "U_test, X_test, Y_test = sim(lti, u_test, T_test, x0_test)\n",
    "U_dmd, X_dmd, Y_dmd = sim(lti_dmd, u_test, T_test,x0_test)\n",
    "\n",
    "trajectories_plot(T_test, U_test, Y_test, Y_dmd)"
   ]
  },
  {
   "cell_type": "markdown",
   "id": "e05d173f",
   "metadata": {
    "slideshow": {
     "slide_type": "slide"
    }
   },
   "source": [
    "\n",
    "# Is the identified model close to the real physical system?\n",
    "\n"
   ]
  },
  {
   "cell_type": "markdown",
   "id": "77d42022",
   "metadata": {
    "slideshow": {
     "slide_type": "fragment"
    }
   },
   "source": [
    "## Passivity\n",
    "\\begin{align*}\n",
    "    \\frac{\\mathrm{d}}{\\mathrm{d}t}H(x(t)) &\\leq \\langle y(t),u(t)\\rangle\n",
    "\\end{align*}"
   ]
  },
  {
   "cell_type": "markdown",
   "id": "f206195a",
   "metadata": {
    "slideshow": {
     "slide_type": "fragment"
    }
   },
   "source": [
    "\n",
    "with storage function\n",
    "\n",
    "\\begin{align*}\n",
    "    H(x(t)) := \\tfrac{1}{2} x(t)^\\top Q x(t) & \\qquad\\mathrm{with}\\qquad Q=Q^\\top\\ge0\n",
    "\\end{align*}"
   ]
  },
  {
   "cell_type": "markdown",
   "id": "e2cbd66e",
   "metadata": {
    "slideshow": {
     "slide_type": "subslide"
    }
   },
   "source": [
    "\\begin{align*}\n",
    "    \\frac{\\mathrm{d}}{\\mathrm{d}t}H(x(t)) = \\tfrac{1}{2} x(t)^\\top Q \\dot{x}(t)\n",
    "\\end{align*}"
   ]
  },
  {
   "cell_type": "code",
   "execution_count": null,
   "id": "4d4d3d48",
   "metadata": {
    "slideshow": {
     "slide_type": "-"
    }
   },
   "outputs": [],
   "source": [
    "def change_hamiltonian(lti, X, U, Q=None):\n",
    "    X = X.T\n",
    "    dHdt = np.zeros((1, len(X)))\n",
    "    \n",
    "    for i, x in enumerate(X):\n",
    "        Edxdt = to_matrix(lti.A) @ x + to_matrix(lti.B) @ U_dmd[:,i]\n",
    "        if Q is not None:\n",
    "            dHdt[0, i] = x.T @ Q @ Edxdt\n",
    "        else:\n",
    "            dHdt[0, i] = x.T @ Edxdt\n",
    "    \n",
    "    return dHdt"
   ]
  },
  {
   "cell_type": "markdown",
   "id": "51494fdc",
   "metadata": {
    "slideshow": {
     "slide_type": "fragment"
    }
   },
   "source": [
    "\\begin{align*}\n",
    "    \\langle y(t),u(t)\\rangle\n",
    "\\end{align*}"
   ]
  },
  {
   "cell_type": "code",
   "execution_count": null,
   "id": "92751dcb",
   "metadata": {
    "slideshow": {
     "slide_type": "-"
    }
   },
   "outputs": [],
   "source": [
    "def supply_rate(Y, U):\n",
    "    return Y * U"
   ]
  },
  {
   "cell_type": "markdown",
   "id": "0d07c60d",
   "metadata": {
    "slideshow": {
     "slide_type": "fragment"
    }
   },
   "source": [
    "\\begin{align*}\n",
    "    \\frac{\\mathrm{d}}{\\mathrm{d}t}H(x(t)) &\\leq \\langle y(t),u(t)\\rangle\n",
    "\\end{align*}"
   ]
  },
  {
   "cell_type": "markdown",
   "id": "62460cf9",
   "metadata": {
    "slideshow": {
     "slide_type": "subslide"
    }
   },
   "source": [
    "\n",
    "## Is the identified system passive?\n"
   ]
  },
  {
   "cell_type": "code",
   "execution_count": null,
   "id": "75dfed17",
   "metadata": {},
   "outputs": [],
   "source": [
    "from utils.plotting import passivity_plot\n",
    "\n",
    "def is_passive(lti, T, X, Y, U, Q=None):\n",
    "    S = supply_rate(Y, U)\n",
    "    dHdt = change_hamiltonian(lti, X, U, Q)\n",
    "    passivity_plot(T, dHdt, S) # plot dHdt - S <= 0\n",
    "    return np.all(np.less_equal(dHdt, S)) # check if dissipation inequality is satisfied for theese trajectories"
   ]
  },
  {
   "cell_type": "code",
   "execution_count": null,
   "id": "40f16209",
   "metadata": {
    "slideshow": {
     "slide_type": "-"
    }
   },
   "outputs": [],
   "source": [
    "is_passive(lti_dmd, T_test, X_dmd, Y_dmd, U_dmd, Q)"
   ]
  },
  {
   "cell_type": "markdown",
   "id": "597a7c8c",
   "metadata": {
    "slideshow": {
     "slide_type": "slide"
    }
   },
   "source": [
    "\n",
    "# A second true model\n",
    "\n",
    "<div>\n",
    "    <center>\n",
    "        <img src=\"figures/msd-no-damping.svg\" width=\"70%\"/>\n",
    "    </center>\n",
    "</div>"
   ]
  },
  {
   "cell_type": "code",
   "execution_count": null,
   "id": "48f808bb",
   "metadata": {},
   "outputs": [],
   "source": [
    "n = 6 # state dimension\n",
    "m = 1 # input dimension = output dimension\n",
    "\n",
    "A, B, C, Q = msd(n, m, m_i=4, k_i=4, c_i=1e-12)\n",
    "\n",
    "lti = LTIModel.from_matrices(A, B, C)"
   ]
  },
  {
   "cell_type": "markdown",
   "id": "40356f7f",
   "metadata": {
    "slideshow": {
     "slide_type": "slide"
    }
   },
   "source": [
    "\n",
    "## Repeat the roadmap\n"
   ]
  },
  {
   "cell_type": "code",
   "execution_count": null,
   "id": "21718842",
   "metadata": {},
   "outputs": [],
   "source": [
    "U_train, X_train, Y_train = sim(lti, u_train, T_train, x0_train) # via implicit midpoint rule\n",
    "\n",
    "trajectories_plot(T_train, U_train, Y_train)\n",
    "\n",
    "W = (X_train[:, 1:] - X_train[:, :-1]) / delta\n",
    "V = 1 / 2 * (X_train[:, 1:] + X_train[:, :-1])\n",
    "U = 1 / 2 * (U_train[:, 1:] + U_train[:, :-1])\n",
    "Y = 1 / 2 * (Y_train[:, 1:] + Y_train[:, :-1])\n",
    "\n",
    "T = np.concatenate((V, U))\n",
    "Z = np.concatenate((W, Y))"
   ]
  },
  {
   "cell_type": "markdown",
   "id": "e30f115e",
   "metadata": {
    "slideshow": {
     "slide_type": "subslide"
    }
   },
   "source": [
    "\n",
    "## Fit the data\n"
   ]
  },
  {
   "cell_type": "code",
   "execution_count": null,
   "id": "bc14654f",
   "metadata": {
    "slideshow": {
     "slide_type": "-"
    }
   },
   "outputs": [],
   "source": [
    "Zva = NumpyVectorSpace.from_numpy(Z.T)\n",
    "Tva = NumpyVectorSpace.from_numpy(T.T)\n",
    "\n",
    "_, _, AA = dmd(Tva, Zva, svd_method='qr_svd', return_A_approx=True)\n",
    "\n",
    "AA = to_matrix(AA)"
   ]
  },
  {
   "cell_type": "markdown",
   "id": "417e9d8f",
   "metadata": {
    "slideshow": {
     "slide_type": "slide"
    }
   },
   "source": [
    "\n",
    "## Evaluate"
   ]
  },
  {
   "cell_type": "code",
   "execution_count": null,
   "id": "e02f256b",
   "metadata": {
    "slideshow": {
     "slide_type": "-"
    }
   },
   "outputs": [],
   "source": [
    "e = np.linalg.norm(Z - AA @ T)/np.linalg.norm(Z)\n",
    "\n",
    "print(f'Relative error: {e:.2e}')\n",
    "\n",
    "A = AA[:n, :n]\n",
    "B = AA[:n, n:]\n",
    "C = AA[n:, :n]\n",
    "D = AA[n:, n:]\n",
    "\n",
    "lti_dmd = LTIModel.from_matrices(A, B, C)\n",
    "\n",
    "w = np.logspace(-1, 3, 1000)\n",
    "lti_error = lti - lti_dmd\n",
    "lti_error.transfer_function.mag_plot(w)"
   ]
  },
  {
   "cell_type": "code",
   "execution_count": null,
   "id": "86188f90",
   "metadata": {
    "slideshow": {
     "slide_type": "subslide"
    }
   },
   "outputs": [],
   "source": [
    "U_test, X_test, Y_test = sim(lti, u_test, T_test, x0_test)\n",
    "U_dmd, X_dmd, Y_dmd = sim(lti_dmd, u_test, T_test, x0_test)\n",
    "\n",
    "\n",
    "trajectories_plot(T_test, U_test, Y_test, Y_dmd)"
   ]
  },
  {
   "cell_type": "markdown",
   "id": "5868a05f",
   "metadata": {
    "slideshow": {
     "slide_type": "subslide"
    }
   },
   "source": [
    "\n",
    "## Still passive?\n"
   ]
  },
  {
   "cell_type": "code",
   "execution_count": null,
   "id": "6e226459",
   "metadata": {
    "slideshow": {
     "slide_type": "-"
    }
   },
   "outputs": [],
   "source": [
    "is_passive(lti_dmd, T_test, X_dmd, Y_dmd, U_dmd, Q)"
   ]
  },
  {
   "cell_type": "markdown",
   "id": "f0d2b202",
   "metadata": {
    "slideshow": {
     "slide_type": "slide"
    }
   },
   "source": [
    "# Is ABCD the right choice?"
   ]
  },
  {
   "cell_type": "markdown",
   "id": "955b49b9",
   "metadata": {
    "slideshow": {
     "slide_type": "slide"
    }
   },
   "source": [
    "# A (part of a) modelling wish list\n",
    "\n",
    "- system theoretic approach\n",
    "- energy/exergy/entropy\n",
    "- open/closed systems \n",
    "- close to physics"
   ]
  },
  {
   "cell_type": "markdown",
   "id": "4ea28f1f",
   "metadata": {
    "slideshow": {
     "slide_type": "slide"
    }
   },
   "source": [
    "## Port-Hamiltonian system\n",
    "\n",
    "\\begin{align*}\n",
    "    \\dot{x}(t) &= (J-R)\\nabla H(x(t)) + (G-P)u(t),\\\\\n",
    "    y(t) &= (G+P)^\\top \\nabla H(x(t)) + (S-N)u(t)\n",
    "\\end{align*}\n",
    "\n",
    "with \n",
    "\n",
    "- Hamiltonian (energy)\n",
    "\n",
    "\\begin{align*}\n",
    "    H(x(t)) := \\tfrac{1}{2} x(t)^\\top Q x(t)\n",
    "\\end{align*}\n",
    "\n",
    "- Structure matrix\n",
    "\n",
    "\\begin{align*}\n",
    "    \\mathcal{J} := \\begin{bmatrix}\\phantom{-}J & G\\\\ -G^\\top & N\\end{bmatrix} = -\\mathcal{J}^\\top\n",
    "\\end{align*}\n",
    "\n",
    "- Dissipation matrix\n",
    "\n",
    "\\begin{align*}\n",
    "    \\mathcal{R} := \\begin{bmatrix}R & P\\\\ P^\\top & S\\end{bmatrix} = \\mathcal{R}^\\top \\ge 0\n",
    "\\end{align*}\n",
    "\n"
   ]
  },
  {
   "cell_type": "markdown",
   "id": "7fd43476",
   "metadata": {
    "slideshow": {
     "slide_type": "subslide"
    }
   },
   "source": [
    "\n",
    "## Port-Hamiltonian implies passivity\n",
    "\n",
    "\\begin{align*}\n",
    "    Q\\dot{x}(t) &= (J-R) x(t) + (G-P)u(t),\\\\\n",
    "    y(t) &= (G+P)^\\top x(t) + (S-N)u(t)\n",
    "\\end{align*}\n",
    "\n",
    "Dissipation inequality\n",
    "\n",
    "\\begin{align*}\n",
    "    \\frac{\\mathrm{d}}{\\mathrm{d}t}H(x(t)) &\\leq \\langle y(t),u(t)\\rangle\n",
    "\\end{align*}"
   ]
  },
  {
   "cell_type": "markdown",
   "id": "45d8bcd4",
   "metadata": {
    "slideshow": {
     "slide_type": "fragment"
    }
   },
   "source": [
    "\\begin{align*}\n",
    "    \\frac{\\mathrm{d}}{\\mathrm{d}t}H(x) &= x^\\top Q \\dot{x} \n",
    "        = x^\\top (J-R) x + x^\\top(G-P)u - y^\\top u + y^\\top u\\\\\n",
    "        &= -x^\\top R x + x^\\top (G-P) u - x^\\top (G+P) u - u^\\top S u + y^\\top u\\\\\n",
    "        &= - \\begin{bmatrix}x \\\\ u\\end{bmatrix}^\\top \\underbrace{\\begin{bmatrix}R & P\\\\ P^\\top & S\\end{bmatrix}}_{:=\\mathcal{R}\\ge0} \\begin{bmatrix}x \\\\ u\\end{bmatrix} + y^\\top u \\le y^\\top u\n",
    " \\end{align*} "
   ]
  },
  {
   "cell_type": "markdown",
   "id": "cd234b86",
   "metadata": {
    "slideshow": {
     "slide_type": "slide"
    }
   },
   "source": [
    "\n",
    "# The pHDMD problem\n",
    "\n",
    "\\begin{align*}\n",
    "    \\min_{\\mathcal{J}, \\mathcal{R}} \\bigg\\| \n",
    "    \\underbrace{\\begin{bmatrix}Q W \\\\ -Y \\end{bmatrix}}_{=:Z} \n",
    "    - \\bigg(\\underbrace{\\begin{bmatrix}J & G \\\\ -G^\\top & N \\end{bmatrix}}_{=:\\mathcal{J}}\n",
    "    - \\underbrace{\\begin{bmatrix}R & P \\\\ P^\\top & S \\end{bmatrix}}_{=:\\mathcal{R}}\n",
    "    \\bigg)\n",
    "    \\underbrace{\\begin{bmatrix}V \\\\ U \\end{bmatrix}}_{=:T} \\bigg\\|_{\\mathrm{F}} \\qquad\\text{s.t. $\\mathcal{J} = -\\mathcal{J}^\\top$ and $\\mathcal{R}\\geq 0$}\n",
    "\\end{align*}"
   ]
  },
  {
   "cell_type": "markdown",
   "id": "b1d348d8",
   "metadata": {
    "slideshow": {
     "slide_type": "fragment"
    }
   },
   "source": [
    "\n",
    "\\begin{align*}\n",
    "    &\\min_{\\mathcal{J}=-\\mathcal{J}^\\top} \\|Z - (\\mathcal{J} - \\mathcal{R}) T\\|_{\\mathrm{F}} \n",
    "    & &\\min_{\\mathcal{R} \\ge 0} \\|Z - (\\mathcal{J} - \\mathcal{R}) T\\|_{\\mathrm{F}} \\\\\n",
    "    =&\\min_{\\mathcal{J}=-\\mathcal{J}^\\top} \\|\\underbrace{Z + \\mathcal{R} T}_{=: Z_1} - \\mathcal{J} T\\|_\\mathrm{F} \n",
    "    & =&\\min_{\\mathcal{R} \\ge 0} \\|\\underbrace{-Z + \\mathcal{J} T}_{=: Z_2} - \\mathcal{R} T\\|_{\\mathrm{F}}\\\\\n",
    "    & \\text{$\\rightsquigarrow$ analytical solution available} & & \\text{$\\rightsquigarrow$ algorithmic solution available}\n",
    "\\end{align*}"
   ]
  },
  {
   "cell_type": "markdown",
   "id": "7abc1646",
   "metadata": {
    "slideshow": {
     "slide_type": "slide"
    }
   },
   "source": [
    "\n",
    "# The pHDMD algorithm\n",
    "\n",
    "<div>\n",
    "    <center>\n",
    "        <img src=\"figures/phdmd.svg\" width=\"70%\"/>\n",
    "    </center>\n",
    "</div>"
   ]
  },
  {
   "cell_type": "code",
   "execution_count": null,
   "id": "40c61f0a",
   "metadata": {
    "slideshow": {
     "slide_type": "slide"
    }
   },
   "outputs": [],
   "source": [
    "from algorithm.phdmd import phdmd_FGM\n",
    "\n",
    "Z = np.concatenate((Q @ W, -Y))\n",
    "T = np.concatenate((V, U))\n",
    "\n",
    "J0 = np.zeros((n + m, n + m))\n",
    "R0 = np.eye(n + m)\n",
    "\n",
    "J, R, e = phdmd_FGM(T, Z, J0, R0, max_iter=20)"
   ]
  },
  {
   "cell_type": "markdown",
   "id": "70a9c684",
   "metadata": {
    "slideshow": {
     "slide_type": "subslide"
    }
   },
   "source": [
    "\n",
    "## Initialization\n",
    "\n",
    "We know the analyitcal solution of\n",
    "\\begin{align*}\\|T^\\top Z - T^\\top (\\mathcal{J} - \\mathcal{R}) T\\|_{\\mathrm{F}}\\qquad\\text{s.t. $\\mathcal{J} = -\\mathcal{J}^\\top$ and $\\mathcal{R}\\geq 0$}.\\end{align*}"
   ]
  },
  {
   "cell_type": "markdown",
   "id": "54b1494d",
   "metadata": {
    "slideshow": {
     "slide_type": "fragment"
    }
   },
   "source": [
    "Let $V\\Sigma W^\\top = T$. \n",
    "\n",
    "Define\n",
    "\n",
    "\\begin{align*}\\widetilde{Z}:=\\Sigma V^\\top Z W\\end{align*}\n",
    "\n",
    "then\n",
    "\n",
    "\\begin{align*}\n",
    "    \\mathcal{J}^\\star := V\\Sigma^{-1} \\mathrm{skew}(\\widetilde{Z})\\Sigma^{-1}V^\\top \\qquad\\text{and}\\qquad\n",
    "    \\mathcal{R}^\\star := V\\Sigma^{-1}\\mathcal{P}_{\\ge}(-\\widetilde{Z})\\Sigma^{-1} V^\\top.\n",
    "\\end{align*}"
   ]
  },
  {
   "cell_type": "markdown",
   "id": "132f7372",
   "metadata": {
    "slideshow": {
     "slide_type": "subslide"
    }
   },
   "source": [
    "\n",
    "# pHDMD with initialization\n"
   ]
  },
  {
   "cell_type": "code",
   "execution_count": null,
   "id": "3193d119",
   "metadata": {
    "slideshow": {
     "slide_type": "-"
    }
   },
   "outputs": [],
   "source": [
    "from algorithm.phdmd import init_phdmd\n",
    "\n",
    "J0, R0 = init_phdmd(T, Z)\n",
    "J, R, e = phdmd_FGM(T, Z, J0, R0, max_iter=20)"
   ]
  },
  {
   "cell_type": "code",
   "execution_count": null,
   "id": "40a7802c",
   "metadata": {
    "slideshow": {
     "slide_type": "fragment"
    }
   },
   "outputs": [],
   "source": [
    "P = R[:n, n:]\n",
    "S = R[n:, n:]\n",
    "\n",
    "G = J[:n, n:]\n",
    "N = J[n:, n:]\n",
    "\n",
    "R = R[:n, :n]\n",
    "J = J[:n, :n]"
   ]
  },
  {
   "cell_type": "code",
   "execution_count": null,
   "id": "a27d4152",
   "metadata": {
    "slideshow": {
     "slide_type": "fragment"
    }
   },
   "outputs": [],
   "source": [
    "from pymor.models.iosys import PHLTIModel\n",
    "\n",
    "phlti_phdmd = PHLTIModel.from_matrices(J, R, G, P, S, N, Q)\n",
    "phlti_phdmd"
   ]
  },
  {
   "cell_type": "markdown",
   "id": "114c5806",
   "metadata": {
    "slideshow": {
     "slide_type": "subslide"
    }
   },
   "source": [
    "\n",
    "## Evaluate the pH system\n"
   ]
  },
  {
   "cell_type": "code",
   "execution_count": null,
   "id": "011f8f66",
   "metadata": {},
   "outputs": [],
   "source": [
    "w = np.logspace(-1, 3, 1000)\n",
    "lti_error = phlti_phdmd - lti_dmd # PHLTIModel - LTIModel is supported!\n",
    "magnitude_plot(w, lti_error)"
   ]
  },
  {
   "cell_type": "code",
   "execution_count": null,
   "id": "33fb6bcb",
   "metadata": {
    "slideshow": {
     "slide_type": "fragment"
    }
   },
   "outputs": [],
   "source": [
    "U_phdmd, X_phdmd, Y_phdmd = sim(phlti_phdmd.to_lti(), u_test, T_test, x0_test)\n",
    "\n",
    "trajectories_plot(T_test, U_test, Y_test, Y_phdmd)"
   ]
  },
  {
   "cell_type": "markdown",
   "id": "7778420f",
   "metadata": {
    "slideshow": {
     "slide_type": "subslide"
    }
   },
   "source": [
    "\n",
    "## Passivity is guaranteed\n"
   ]
  },
  {
   "cell_type": "code",
   "execution_count": null,
   "id": "a369f405",
   "metadata": {
    "slideshow": {
     "slide_type": "-"
    }
   },
   "outputs": [],
   "source": [
    "is_passive(phlti_phdmd.to_lti(), T_test, X_phdmd, Y_phdmd, U_phdmd)"
   ]
  },
  {
   "cell_type": "markdown",
   "id": "60f80ee0",
   "metadata": {
    "slideshow": {
     "slide_type": "slide"
    }
   },
   "source": [
    "\n",
    "# Summary\n",
    "\n",
    "<!-- <div class=\"container\"> -->\n",
    "\n",
    "<div>\n",
    "\n",
    "## Take home message\n",
    "    - Structure (preserving) comes with costs but provides guarantees\n",
    "\n",
    "## Upcoming work\n",
    "    - Structure preserving MOR in pyMOR\n",
    "</div>\n",
    "\n",
    "<div>\n",
    "    <img src=\"figures/qr_gh_phdmd.png\" width=\"30%\"/>\n",
    "</div>\n",
    "    \n",
    "<!-- </div> -->"
   ]
  },
  {
   "cell_type": "code",
   "execution_count": null,
   "id": "032085be",
   "metadata": {},
   "outputs": [],
   "source": []
  }
 ],
 "metadata": {
  "celltoolbar": "Slideshow",
  "kernelspec": {
   "display_name": "Python 3 (ipykernel)",
   "language": "python",
   "name": "python3"
  },
  "language_info": {
   "codemirror_mode": {
    "name": "ipython",
    "version": 3
   },
   "file_extension": ".py",
   "mimetype": "text/x-python",
   "name": "python",
   "nbconvert_exporter": "python",
   "pygments_lexer": "ipython3",
   "version": "3.10.6"
  }
 },
 "nbformat": 4,
 "nbformat_minor": 5
}
